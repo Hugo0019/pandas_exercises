{
 "cells": [
  {
   "cell_type": "code",
   "execution_count": 4,
   "id": "9cd6775e-c1a7-4e8e-8dbb-01db149800d8",
   "metadata": {},
   "outputs": [],
   "source": [
    "import pandas as pd\n",
    "import datetime as dt\n",
    "import numpy as np"
   ]
  },
  {
   "cell_type": "code",
   "execution_count": 41,
   "id": "38b1b42b-1190-47cd-a30e-53c71524de93",
   "metadata": {},
   "outputs": [
    {
     "data": {
      "text/plain": [
       "Timestamp('2022-05-11 19:21:00')"
      ]
     },
     "execution_count": 41,
     "metadata": {},
     "output_type": "execute_result"
    }
   ],
   "source": [
    "pd.Timestamp(2022,5,11,12,27)+pd.Timedelta(hours=np.random.poisson(4))+pd.Timedelta(minutes=np.random.poisson(60))"
   ]
  },
  {
   "cell_type": "code",
   "execution_count": 61,
   "id": "71d7a008-2244-4174-af8b-045181954c77",
   "metadata": {},
   "outputs": [
    {
     "data": {
      "text/plain": [
       "datetime.datetime(2022, 5, 12, 17, 38, 5, 933827)"
      ]
     },
     "execution_count": 61,
     "metadata": {},
     "output_type": "execute_result"
    }
   ],
   "source": [
    "dt.datetime.now()+dt.timedelta(hours=np.random.poisson(24))"
   ]
  },
  {
   "cell_type": "code",
   "execution_count": 75,
   "id": "7bc475f3-7726-4cfe-9ace-a8ec9499d8a3",
   "metadata": {},
   "outputs": [
    {
     "data": {
      "text/plain": [
       "[datetime.datetime(2022, 5, 12, 14, 38, 54, 644444),\n",
       " datetime.datetime(2022, 5, 12, 8, 38, 54, 644444),\n",
       " datetime.datetime(2022, 5, 12, 16, 38, 54, 644444),\n",
       " datetime.datetime(2022, 5, 12, 11, 38, 54, 644444),\n",
       " datetime.datetime(2022, 5, 12, 9, 38, 54, 644444),\n",
       " datetime.datetime(2022, 5, 12, 15, 38, 54, 644444),\n",
       " datetime.datetime(2022, 5, 12, 8, 38, 54, 644444),\n",
       " datetime.datetime(2022, 5, 12, 8, 38, 54, 644444),\n",
       " datetime.datetime(2022, 5, 12, 15, 38, 54, 644444),\n",
       " datetime.datetime(2022, 5, 12, 17, 38, 54, 644444)]"
      ]
     },
     "execution_count": 75,
     "metadata": {},
     "output_type": "execute_result"
    }
   ],
   "source": [
    "[dt.datetime.now()+dt.timedelta(hours=np.random.poisson(24)) for i in range(0,10)]"
   ]
  },
  {
   "cell_type": "code",
   "execution_count": null,
   "id": "9f1d03d6-afe8-4793-8b17-5e2f6ba3d58a",
   "metadata": {},
   "outputs": [],
   "source": [
    "[df_sim.index[i]+np.random.rand(1,12) for i in range(len(df_sim.index))]"
   ]
  },
  {
   "cell_type": "code",
   "execution_count": 76,
   "id": "0f5443c7-ef19-429f-883f-85092735daad",
   "metadata": {
    "collapsed": true,
    "jupyter": {
     "outputs_hidden": true
    },
    "tags": []
   },
   "outputs": [
    {
     "ename": "NameError",
     "evalue": "name 'df_sim' is not defined",
     "output_type": "error",
     "traceback": [
      "\u001b[1;31m---------------------------------------------------------------------------\u001b[0m",
      "\u001b[1;31mNameError\u001b[0m                                 Traceback (most recent call last)",
      "Input \u001b[1;32mIn [76]\u001b[0m, in \u001b[0;36m<cell line: 1>\u001b[1;34m()\u001b[0m\n\u001b[1;32m----> 1\u001b[0m \u001b[43mdf_sim\u001b[49m\u001b[38;5;241m.\u001b[39mindex\u001b[38;5;241m+\u001b[39mpd\u001b[38;5;241m.\u001b[39mDatetimeIndex(data\u001b[38;5;241m=\u001b[39mnp\u001b[38;5;241m.\u001b[39mrandom\u001b[38;5;241m.\u001b[39mrand(\u001b[38;5;241m1\u001b[39m,\u001b[38;5;241m2\u001b[39m,\u001b[38;5;28mlen\u001b[39m(df_sim\u001b[38;5;241m.\u001b[39mindex)),dtype\u001b[38;5;241m=\u001b[39m\u001b[38;5;124m'\u001b[39m\u001b[38;5;124mh\u001b[39m\u001b[38;5;124m'\u001b[39m)\n",
      "\u001b[1;31mNameError\u001b[0m: name 'df_sim' is not defined"
     ]
    }
   ],
   "source": [
    "df_sim.index+pd.DatetimeIndex(data=np.random.rand(1,2,len(df_sim.index)),dtype='h')"
   ]
  }
 ],
 "metadata": {
  "kernelspec": {
   "display_name": "Python 3 (ipykernel)",
   "language": "python",
   "name": "python3"
  },
  "language_info": {
   "codemirror_mode": {
    "name": "ipython",
    "version": 3
   },
   "file_extension": ".py",
   "mimetype": "text/x-python",
   "name": "python",
   "nbconvert_exporter": "python",
   "pygments_lexer": "ipython3",
   "version": "3.9.7"
  }
 },
 "nbformat": 4,
 "nbformat_minor": 5
}
